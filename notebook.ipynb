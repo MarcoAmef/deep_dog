{
 "cells": [
  {
   "cell_type": "code",
   "execution_count": 8,
   "id": "4285937c",
   "metadata": {},
   "outputs": [],
   "source": [
    "import requests\n",
    "import os\n",
    "import requests\n",
    "from tqdm import tqdm\n",
    "import shutil"
   ]
  },
  {
   "cell_type": "code",
   "execution_count": null,
   "id": "b27aabf1",
   "metadata": {},
   "outputs": [
    {
     "name": "stdout",
     "output_type": "stream",
     "text": [
      "{'affenpinscher': 134, 'african': 169, 'airedale': 189, 'akita': 7, 'appenzeller': 135, 'australian': 13, 'bakharwal': 1, 'basenji': 170, 'beagle': 172, 'bluetick': 147, 'borzoi': 107, 'bouvier': 119, 'boxer': 149, 'brabancon': 141, 'briard': 136, 'buhund': 3, 'bulldog': 324, 'bullterrier': 132, 'cattledog': 18, 'cavapoo': 5, 'chihuahua': 129, 'chippiparai': 1, 'chow': 183, 'clumber': 116, 'cockapoo': 16, 'collie': 299, 'coonhound': 130, 'corgi': 139, 'cotondetulear': 4, 'dachshund': 31, 'dalmatian': 2, 'dane': 127, 'danish': 4, 'deerhound': 140, 'dhole': 150, 'dingo': 148, 'doberman': 137, 'elkhound': 175, 'entlebucher': 200, 'eskimo': 140, 'finnish': 2, 'frise': 11, 'gaddi': 1, 'germanshepherd': 136, 'greyhound': 144, 'groenendael': 126, 'havanese': 5, 'hound': 808, 'husky': 189, 'keeshond': 135, 'kelpie': 147, 'kombai': 1, 'komondor': 101, 'kuvasz': 133, 'labradoodle': 3, 'labrador': 184, 'leonberg': 113, 'lhasa': 166, 'malamute': 136, 'malinois': 136, 'maltese': 225, 'mastiff': 268, 'mexicanhairless': 144, 'mix': 146, 'mountain': 315, 'mudhol': 1, 'newfoundland': 154, 'otterhound': 110, 'ovcharka': 30, 'papillon': 184, 'pariah': 1, 'pekinese': 124, 'pembroke': 158, 'pinscher': 206, 'pitbull': 7, 'pointer': 138, 'pomeranian': 194, 'poodle': 421, 'pug': 230, 'puggle': 28, 'pyrenees': 159, 'rajapalayam': 1, 'redbone': 131, 'retriever': 585, 'ridgeback': 151, 'rottweiler': 139, 'saluki': 148, 'samoyed': 168, 'schipperke': 129, 'schnauzer': 420, 'segugio': 2, 'setter': 419, 'sharpei': 1, 'sheepdog': 284, 'shiba': 23, 'shihtzu': 198, 'spaniel': 1000, 'spitz': 7, 'springer': 150, 'stbernard': 139, 'terrier': 1000, 'tervuren': 7, 'vizsla': 134, 'waterdog': 6, 'weimaraner': 143, 'whippet': 162, 'wolfhound': 135}\n",
      "{'affenpinscher': 134, 'african': 169, 'airedale': 189, 'akita': 7, 'appenzeller': 135}\n"
     ]
    }
   ],
   "source": [
    "breeds = [\n",
    "    \"affenpinscher\", \"african\", \"airedale\", \"akita\", \"appenzeller\",\n",
    "    \"australian\", \"bakharwal\", \"basenji\", \"beagle\", \"bluetick\", \"borzoi\",\n",
    "    \"bouvier\", \"boxer\", \"brabancon\", \"briard\", \"buhund\", \"bulldog\",\n",
    "    \"bullterrier\", \"cattledog\", \"cavapoo\", \"chihuahua\", \"chippiparai\",\n",
    "    \"chow\", \"clumber\", \"cockapoo\", \"collie\", \"coonhound\", \"corgi\",\n",
    "    \"cotondetulear\", \"dachshund\", \"dalmatian\", \"dane\", \"danish\",\n",
    "    \"deerhound\", \"dhole\", \"dingo\", \"doberman\", \"elkhound\", \"entlebucher\",\n",
    "    \"eskimo\", \"finnish\", \"frise\", \"gaddi\", \"germanshepherd\", \"greyhound\",\n",
    "    \"groenendael\", \"havanese\", \"hound\", \"husky\", \"keeshond\", \"kelpie\",\n",
    "    \"kombai\", \"komondor\", \"kuvasz\", \"labradoodle\", \"labrador\", \"leonberg\",\n",
    "    \"lhasa\", \"malamute\", \"malinois\", \"maltese\", \"mastiff\",\n",
    "    \"mexicanhairless\", \"mix\", \"mountain\", \"mudhol\", \"newfoundland\",\n",
    "    \"otterhound\", \"ovcharka\", \"papillon\", \"pariah\", \"pekinese\",\n",
    "    \"pembroke\", \"pinscher\", \"pitbull\", \"pointer\", \"pomeranian\", \"poodle\",\n",
    "    \"pug\", \"puggle\", \"pyrenees\", \"rajapalayam\", \"redbone\", \"retriever\",\n",
    "    \"ridgeback\", \"rottweiler\", \"saluki\", \"samoyed\", \"schipperke\",\n",
    "    \"schnauzer\", \"segugio\", \"setter\", \"sharpei\", \"sheepdog\", \"shiba\",\n",
    "    \"shihtzu\", \"spaniel\", \"spitz\", \"springer\", \"stbernard\", \"terrier\",\n",
    "    \"tervuren\", \"vizsla\", \"waterdog\", \"weimaraner\", \"whippet\",\n",
    "    \"wolfhound\"\n",
    "]\n",
    "\n",
    "breed_image_counts = {}\n",
    "\n",
    "for breed in breeds:\n",
    "    url = f\"https://dog.ceo/api/breed/{breed}/images\"\n",
    "    response = requests.get(url).json()\n",
    "    if response[\"status\"] == \"success\":\n",
    "        breed_image_counts[breed] = len(response[\"message\"])\n",
    "\n",
    "print(breed_image_counts)"
   ]
  },
  {
   "cell_type": "code",
   "execution_count": 6,
   "id": "5fabb760",
   "metadata": {},
   "outputs": [
    {
     "name": "stdout",
     "output_type": "stream",
     "text": [
      "{'spaniel': 1000, 'terrier': 1000, 'hound': 808, 'retriever': 585, 'poodle': 421, 'schnauzer': 420, 'setter': 419, 'bulldog': 324, 'mountain': 315, 'collie': 299, 'sheepdog': 284, 'mastiff': 268, 'pug': 230, 'maltese': 225, 'pinscher': 206, 'entlebucher': 200, 'shihtzu': 198, 'pomeranian': 194, 'airedale': 189, 'husky': 189, 'labrador': 184, 'papillon': 184, 'chow': 183, 'elkhound': 175, 'beagle': 172, 'basenji': 170, 'african': 169, 'samoyed': 168, 'lhasa': 166, 'whippet': 162, 'pyrenees': 159, 'pembroke': 158, 'newfoundland': 154, 'ridgeback': 151, 'dhole': 150, 'springer': 150, 'boxer': 149, 'dingo': 148, 'saluki': 148, 'bluetick': 147, 'kelpie': 147, 'mix': 146, 'greyhound': 144, 'mexicanhairless': 144, 'weimaraner': 143, 'brabancon': 141, 'deerhound': 140, 'eskimo': 140, 'corgi': 139, 'rottweiler': 139, 'stbernard': 139, 'pointer': 138, 'doberman': 137, 'briard': 136, 'germanshepherd': 136, 'malamute': 136, 'malinois': 136, 'appenzeller': 135, 'keeshond': 135, 'wolfhound': 135, 'affenpinscher': 134, 'vizsla': 134, 'kuvasz': 133, 'bullterrier': 132, 'redbone': 131, 'coonhound': 130, 'chihuahua': 129, 'schipperke': 129, 'dane': 127, 'groenendael': 126, 'pekinese': 124, 'bouvier': 119, 'clumber': 116, 'leonberg': 113, 'otterhound': 110, 'borzoi': 107, 'komondor': 101, 'dachshund': 31, 'ovcharka': 30, 'puggle': 28, 'shiba': 23, 'cattledog': 18, 'cockapoo': 16, 'australian': 13, 'frise': 11, 'akita': 7, 'pitbull': 7, 'spitz': 7, 'tervuren': 7, 'waterdog': 6, 'cavapoo': 5, 'havanese': 5, 'cotondetulear': 4, 'danish': 4, 'buhund': 3, 'labradoodle': 3, 'dalmatian': 2, 'finnish': 2, 'segugio': 2, 'bakharwal': 1, 'chippiparai': 1, 'gaddi': 1, 'kombai': 1, 'mudhol': 1, 'pariah': 1, 'rajapalayam': 1, 'sharpei': 1}\n"
     ]
    }
   ],
   "source": [
    "sorted_counts = dict(sorted(breed_image_counts.items(), key=lambda item: item[1], reverse=True))\n",
    "print(sorted_counts)"
   ]
  },
  {
   "cell_type": "code",
   "execution_count": null,
   "id": "8d88c384",
   "metadata": {},
   "outputs": [
    {
     "name": "stdout",
     "output_type": "stream",
     "text": [
      "Baixando imagens de: hound - afghan\n"
     ]
    },
    {
     "name": "stderr",
     "output_type": "stream",
     "text": [
      "Downloading to dataset/hound_afghan: 100%|██████████| 125/125 [00:46<00:00,  2.69it/s]\n"
     ]
    },
    {
     "name": "stdout",
     "output_type": "stream",
     "text": [
      "Baixando imagens de: hound - basset\n"
     ]
    },
    {
     "name": "stderr",
     "output_type": "stream",
     "text": [
      "Downloading to dataset/hound_basset: 100%|██████████| 149/149 [01:12<00:00,  2.06it/s]\n"
     ]
    },
    {
     "name": "stdout",
     "output_type": "stream",
     "text": [
      "Baixando imagens de: hound - blood\n"
     ]
    },
    {
     "name": "stderr",
     "output_type": "stream",
     "text": [
      "Downloading to dataset/hound_blood: 100%|██████████| 135/135 [01:06<00:00,  2.02it/s]\n"
     ]
    },
    {
     "name": "stdout",
     "output_type": "stream",
     "text": [
      "Baixando imagens de: hound - english\n"
     ]
    },
    {
     "name": "stderr",
     "output_type": "stream",
     "text": [
      "Downloading to dataset/hound_english: 100%|██████████| 114/114 [00:56<00:00,  2.02it/s]\n"
     ]
    },
    {
     "name": "stdout",
     "output_type": "stream",
     "text": [
      "Baixando imagens de: hound - ibizan\n"
     ]
    },
    {
     "name": "stderr",
     "output_type": "stream",
     "text": [
      "Downloading to dataset/hound_ibizan: 100%|██████████| 154/154 [01:35<00:00,  1.61it/s]\n"
     ]
    },
    {
     "name": "stdout",
     "output_type": "stream",
     "text": [
      "Baixando imagens de: hound - plott\n"
     ]
    },
    {
     "name": "stderr",
     "output_type": "stream",
     "text": [
      "Downloading to dataset/hound_plott: 100%|██████████| 2/2 [00:01<00:00,  1.74it/s]\n"
     ]
    },
    {
     "name": "stdout",
     "output_type": "stream",
     "text": [
      "Baixando imagens de: hound - walker\n"
     ]
    },
    {
     "name": "stderr",
     "output_type": "stream",
     "text": [
      "Downloading to dataset/hound_walker: 100%|██████████| 129/129 [01:05<00:00,  1.97it/s]\n"
     ]
    },
    {
     "name": "stdout",
     "output_type": "stream",
     "text": [
      "Baixando imagens de: retriever - chesapeake\n"
     ]
    },
    {
     "name": "stderr",
     "output_type": "stream",
     "text": [
      "Downloading to dataset/retriever_chesapeake: 100%|██████████| 142/142 [01:08<00:00,  2.07it/s]\n"
     ]
    },
    {
     "name": "stdout",
     "output_type": "stream",
     "text": [
      "Baixando imagens de: retriever - curly\n"
     ]
    },
    {
     "name": "stderr",
     "output_type": "stream",
     "text": [
      "Downloading to dataset/retriever_curly: 100%|██████████| 129/129 [01:03<00:00,  2.03it/s]\n"
     ]
    },
    {
     "name": "stdout",
     "output_type": "stream",
     "text": [
      "Baixando imagens de: retriever - flatcoated\n"
     ]
    },
    {
     "name": "stderr",
     "output_type": "stream",
     "text": [
      "Downloading to dataset/retriever_flatcoated: 100%|██████████| 142/142 [01:09<00:00,  2.03it/s]\n"
     ]
    },
    {
     "name": "stdout",
     "output_type": "stream",
     "text": [
      "Baixando imagens de: retriever - golden\n"
     ]
    },
    {
     "name": "stderr",
     "output_type": "stream",
     "text": [
      "Downloading to dataset/retriever_golden: 100%|██████████| 172/172 [01:32<00:00,  1.87it/s]\n"
     ]
    },
    {
     "name": "stdout",
     "output_type": "stream",
     "text": [
      "Baixando imagens de: terrier - american\n"
     ]
    },
    {
     "name": "stderr",
     "output_type": "stream",
     "text": [
      "Downloading to dataset/terrier_american: 100%|██████████| 153/153 [01:13<00:00,  2.09it/s]\n"
     ]
    },
    {
     "name": "stdout",
     "output_type": "stream",
     "text": [
      "Baixando imagens de: terrier - australian\n"
     ]
    },
    {
     "name": "stderr",
     "output_type": "stream",
     "text": [
      "Downloading to dataset/terrier_australian: 100%|██████████| 181/181 [01:28<00:00,  2.05it/s]\n"
     ]
    },
    {
     "name": "stdout",
     "output_type": "stream",
     "text": [
      "Baixando imagens de: terrier - bedlington\n"
     ]
    },
    {
     "name": "stderr",
     "output_type": "stream",
     "text": [
      "Downloading to dataset/terrier_bedlington: 100%|██████████| 148/148 [01:10<00:00,  2.10it/s]\n"
     ]
    },
    {
     "name": "stdout",
     "output_type": "stream",
     "text": [
      "Baixando imagens de: terrier - border\n"
     ]
    },
    {
     "name": "stderr",
     "output_type": "stream",
     "text": [
      "Downloading to dataset/terrier_border: 100%|██████████| 147/147 [01:11<00:00,  2.06it/s]\n"
     ]
    },
    {
     "name": "stdout",
     "output_type": "stream",
     "text": [
      "Baixando imagens de: terrier - cairn\n"
     ]
    },
    {
     "name": "stderr",
     "output_type": "stream",
     "text": [
      "Downloading to dataset/terrier_cairn: 100%|██████████| 177/177 [01:30<00:00,  1.95it/s]\n"
     ]
    },
    {
     "name": "stdout",
     "output_type": "stream",
     "text": [
      "Baixando imagens de: terrier - dandie\n"
     ]
    },
    {
     "name": "stderr",
     "output_type": "stream",
     "text": [
      "Downloading to dataset/terrier_dandie: 100%|██████████| 148/148 [01:09<00:00,  2.13it/s]\n"
     ]
    },
    {
     "name": "stdout",
     "output_type": "stream",
     "text": [
      "Baixando imagens de: terrier - fox\n"
     ]
    },
    {
     "name": "stderr",
     "output_type": "stream",
     "text": [
      "Downloading to dataset/terrier_fox: 100%|██████████| 134/134 [01:02<00:00,  2.14it/s]\n"
     ]
    },
    {
     "name": "stdout",
     "output_type": "stream",
     "text": [
      "Baixando imagens de: terrier - irish\n"
     ]
    },
    {
     "name": "stderr",
     "output_type": "stream",
     "text": [
      "Downloading to dataset/terrier_irish: 100%|██████████| 157/157 [01:14<00:00,  2.11it/s]\n"
     ]
    },
    {
     "name": "stdout",
     "output_type": "stream",
     "text": [
      "Baixando imagens de: terrier - kerryblue\n"
     ]
    },
    {
     "name": "stderr",
     "output_type": "stream",
     "text": [
      "Downloading to dataset/terrier_kerryblue: 100%|██████████| 118/118 [01:01<00:00,  1.91it/s]\n"
     ]
    },
    {
     "name": "stdout",
     "output_type": "stream",
     "text": [
      "Baixando imagens de: terrier - lakeland\n"
     ]
    },
    {
     "name": "stderr",
     "output_type": "stream",
     "text": [
      "Downloading to dataset/terrier_lakeland: 100%|██████████| 176/176 [01:24<00:00,  2.09it/s]\n"
     ]
    },
    {
     "name": "stdout",
     "output_type": "stream",
     "text": [
      "Baixando imagens de: terrier - norfolk\n"
     ]
    },
    {
     "name": "stderr",
     "output_type": "stream",
     "text": [
      "Downloading to dataset/terrier_norfolk: 100%|██████████| 142/142 [01:08<00:00,  2.07it/s]\n"
     ]
    },
    {
     "name": "stdout",
     "output_type": "stream",
     "text": [
      "Baixando imagens de: terrier - norwich\n"
     ]
    },
    {
     "name": "stderr",
     "output_type": "stream",
     "text": [
      "Downloading to dataset/terrier_norwich: 100%|██████████| 150/150 [01:09<00:00,  2.15it/s]\n"
     ]
    },
    {
     "name": "stdout",
     "output_type": "stream",
     "text": [
      "Baixando imagens de: terrier - patterdale\n"
     ]
    },
    {
     "name": "stderr",
     "output_type": "stream",
     "text": [
      "Downloading to dataset/terrier_patterdale: 100%|██████████| 5/5 [00:02<00:00,  2.10it/s]\n"
     ]
    },
    {
     "name": "stdout",
     "output_type": "stream",
     "text": [
      "Baixando imagens de: terrier - russell\n"
     ]
    },
    {
     "name": "stderr",
     "output_type": "stream",
     "text": [
      "Downloading to dataset/terrier_russell: 100%|██████████| 16/16 [00:10<00:00,  1.46it/s]\n"
     ]
    },
    {
     "name": "stdout",
     "output_type": "stream",
     "text": [
      "Baixando imagens de: terrier - scottish\n"
     ]
    },
    {
     "name": "stderr",
     "output_type": "stream",
     "text": [
      "Downloading to dataset/terrier_scottish: 100%|██████████| 133/133 [01:06<00:00,  2.01it/s]\n"
     ]
    },
    {
     "name": "stdout",
     "output_type": "stream",
     "text": [
      "Baixando imagens de: terrier - sealyham\n"
     ]
    },
    {
     "name": "stderr",
     "output_type": "stream",
     "text": [
      "Downloading to dataset/terrier_sealyham: 100%|██████████| 132/132 [01:03<00:00,  2.08it/s]\n"
     ]
    },
    {
     "name": "stdout",
     "output_type": "stream",
     "text": [
      "Baixando imagens de: terrier - silky\n"
     ]
    },
    {
     "name": "stderr",
     "output_type": "stream",
     "text": [
      "Downloading to dataset/terrier_silky: 100%|██████████| 173/173 [01:23<00:00,  2.06it/s]\n"
     ]
    },
    {
     "name": "stdout",
     "output_type": "stream",
     "text": [
      "Baixando imagens de: terrier - tibetan\n"
     ]
    },
    {
     "name": "stderr",
     "output_type": "stream",
     "text": [
      "Downloading to dataset/terrier_tibetan: 100%|██████████| 197/197 [01:34<00:00,  2.08it/s]\n"
     ]
    },
    {
     "name": "stdout",
     "output_type": "stream",
     "text": [
      "Baixando imagens de: terrier - toy\n"
     ]
    },
    {
     "name": "stderr",
     "output_type": "stream",
     "text": [
      "Downloading to dataset/terrier_toy: 100%|██████████| 176/176 [01:27<00:00,  2.00it/s]\n"
     ]
    },
    {
     "name": "stdout",
     "output_type": "stream",
     "text": [
      "Baixando imagens de: terrier - welsh\n"
     ]
    },
    {
     "name": "stderr",
     "output_type": "stream",
     "text": [
      "Downloading to dataset/terrier_welsh: 100%|██████████| 1/1 [00:00<00:00,  1.81it/s]\n"
     ]
    },
    {
     "name": "stdout",
     "output_type": "stream",
     "text": [
      "Baixando imagens de: terrier - westhighland\n"
     ]
    },
    {
     "name": "stderr",
     "output_type": "stream",
     "text": [
      "Downloading to dataset/terrier_westhighland: 100%|██████████| 160/160 [01:17<00:00,  2.06it/s]\n"
     ]
    },
    {
     "name": "stdout",
     "output_type": "stream",
     "text": [
      "Baixando imagens de: terrier - wheaten\n"
     ]
    },
    {
     "name": "stderr",
     "output_type": "stream",
     "text": [
      "Downloading to dataset/terrier_wheaten: 100%|██████████| 134/134 [01:06<00:00,  2.01it/s]\n"
     ]
    },
    {
     "name": "stdout",
     "output_type": "stream",
     "text": [
      "Baixando imagens de: terrier - yorkshire\n"
     ]
    },
    {
     "name": "stderr",
     "output_type": "stream",
     "text": [
      "Downloading to dataset/terrier_yorkshire: 100%|██████████| 149/149 [01:09<00:00,  2.13it/s]\n"
     ]
    },
    {
     "name": "stdout",
     "output_type": "stream",
     "text": [
      "Baixando imagens de: spaniel - blenheim\n"
     ]
    },
    {
     "name": "stderr",
     "output_type": "stream",
     "text": [
      "Downloading to dataset/spaniel_blenheim: 100%|██████████| 157/157 [01:15<00:00,  2.09it/s]\n"
     ]
    },
    {
     "name": "stdout",
     "output_type": "stream",
     "text": [
      "Baixando imagens de: spaniel - brittany\n"
     ]
    },
    {
     "name": "stderr",
     "output_type": "stream",
     "text": [
      "Downloading to dataset/spaniel_brittany: 100%|██████████| 136/136 [01:04<00:00,  2.10it/s]\n"
     ]
    },
    {
     "name": "stdout",
     "output_type": "stream",
     "text": [
      "Baixando imagens de: spaniel - cocker\n"
     ]
    },
    {
     "name": "stderr",
     "output_type": "stream",
     "text": [
      "Downloading to dataset/spaniel_cocker: 100%|██████████| 174/174 [01:24<00:00,  2.06it/s]\n"
     ]
    },
    {
     "name": "stdout",
     "output_type": "stream",
     "text": [
      "Baixando imagens de: spaniel - irish\n"
     ]
    },
    {
     "name": "stderr",
     "output_type": "stream",
     "text": [
      "Downloading to dataset/spaniel_irish: 100%|██████████| 141/141 [01:12<00:00,  1.96it/s]\n"
     ]
    },
    {
     "name": "stdout",
     "output_type": "stream",
     "text": [
      "Baixando imagens de: spaniel - japanese\n"
     ]
    },
    {
     "name": "stderr",
     "output_type": "stream",
     "text": [
      "Downloading to dataset/spaniel_japanese: 100%|██████████| 163/163 [01:15<00:00,  2.17it/s]\n"
     ]
    },
    {
     "name": "stdout",
     "output_type": "stream",
     "text": [
      "Baixando imagens de: spaniel - sussex\n"
     ]
    },
    {
     "name": "stderr",
     "output_type": "stream",
     "text": [
      "Downloading to dataset/spaniel_sussex: 100%|██████████| 99/99 [00:49<00:00,  1.99it/s]\n"
     ]
    },
    {
     "name": "stdout",
     "output_type": "stream",
     "text": [
      "Baixando imagens de: spaniel - welsh\n"
     ]
    },
    {
     "name": "stderr",
     "output_type": "stream",
     "text": [
      "Downloading to dataset/spaniel_welsh: 100%|██████████| 138/138 [01:08<00:00,  2.02it/s]\n"
     ]
    }
   ],
   "source": [
    "def get_subbreeds(breed):\n",
    "    url = f\"https://dog.ceo/api/breed/{breed}/list\"\n",
    "    response = requests.get(url).json()\n",
    "    return response[\"message\"]\n",
    "\n",
    "def get_image_urls(breed, sub_breed):\n",
    "    url = f\"https://dog.ceo/api/breed/{breed}/{sub_breed}/images\"\n",
    "    response = requests.get(url).json()\n",
    "    return response[\"message\"]\n",
    "\n",
    "def download_images(image_urls, folder):\n",
    "    os.makedirs(folder, exist_ok=True)\n",
    "    for i, url in enumerate(tqdm(image_urls, desc=f\"Downloading to {folder}\")):\n",
    "        try:\n",
    "            img_data = requests.get(url).content\n",
    "            with open(os.path.join(folder, f\"{i}.jpg\"), \"wb\") as handler:\n",
    "                handler.write(img_data)\n",
    "        except Exception as e:\n",
    "            print(f\"Erro ao baixar {url}: {e}\")\n",
    "\n",
    "breeds = [\"hound\", \"retriever\", \"terrier\", \"spaniel\"]\n",
    "\n",
    "for breed in breeds:\n",
    "    subbreeds = get_subbreeds(breed)\n",
    "    for sub in subbreeds:\n",
    "        print(f\"Baixando imagens de: {breed} - {sub}\")\n",
    "        image_urls = get_image_urls(breed, sub)\n",
    "        download_images(image_urls, folder=f\"dataset/{breed}_{sub}\")\n"
   ]
  },
  {
   "cell_type": "code",
   "execution_count": null,
   "id": "b081f2ae",
   "metadata": {},
   "outputs": [
    {
     "name": "stdout",
     "output_type": "stream",
     "text": [
      "Processando grupo: hound\n",
      "Grupo hound processado. Arquivos movidos para: C:/dataset_merged\\hound\n",
      "Processando grupo: retriever\n",
      "Grupo retriever processado. Arquivos movidos para: C:/dataset_merged\\retriever\n",
      "Processando grupo: spaniel\n",
      "Grupo spaniel processado. Arquivos movidos para: C:/dataset_merged\\spaniel\n",
      "Processando grupo: terrier\n",
      "Grupo terrier processado. Arquivos movidos para: C:/dataset_merged\\terrier\n",
      "Movimentação concluída!\n"
     ]
    }
   ],
   "source": [
    "import os\n",
    "import shutil\n",
    "\n",
    "base_path = r\"C:\\Users\\marco.filho\\Documents\\dog_deep\\dataset\"\n",
    "groups = [\"hound\", \"retriever\", \"spaniel\", \"terrier\"]\n",
    "output_base = \"C:/dataset_merged\"\n",
    "\n",
    "os.makedirs(output_base, exist_ok=True)\n",
    "\n",
    "for group in groups:\n",
    "    print(f\"Processando grupo: {group}\")\n",
    "    group_path = os.path.join(base_path, group)\n",
    "    output_group_path = os.path.join(output_base, group)\n",
    "    os.makedirs(output_group_path, exist_ok=True)\n",
    "    sub_breeds = [d for d in os.listdir(group_path) if os.path.isdir(os.path.join(group_path, d))]\n",
    "\n",
    "    for sub_breed in sub_breeds:\n",
    "        sub_breed_path = os.path.join(group_path, sub_breed)\n",
    "        for filename in os.listdir(sub_breed_path):\n",
    "            if filename.lower().endswith((\".jpg\", \".jpeg\", \".png\")):\n",
    "                old_file_path = os.path.join(sub_breed_path, filename)\n",
    "                base_name, ext = os.path.splitext(filename)\n",
    "                new_filename = f\"{sub_breed}_{base_name}{ext}\"\n",
    "                new_file_path = os.path.join(output_group_path, new_filename)\n",
    "\n",
    "                \n",
    "                count = 1\n",
    "                while os.path.exists(new_file_path):\n",
    "                    new_filename = f\"{sub_breed}_{base_name}_{count}{ext}\"\n",
    "                    new_file_path = os.path.join(output_group_path, new_filename)\n",
    "                    count += 1\n",
    "\n",
    "                shutil.move(old_file_path, new_file_path)\n",
    "\n",
    "        try:\n",
    "            os.rmdir(sub_breed_path)\n",
    "        except OSError:\n",
    "            print(f\"Não foi possível remover a pasta (não está vazia): {sub_breed_path}\")\n",
    "\n",
    "    print(f\"Grupo {group} processado. Arquivos movidos para: {output_group_path}\")\n",
    "\n",
    "print(\"Movimentação concluída!\")\n"
   ]
  },
  {
   "cell_type": "code",
   "execution_count": null,
   "id": "4077580e",
   "metadata": {},
   "outputs": [],
   "source": []
  }
 ],
 "metadata": {
  "kernelspec": {
   "display_name": "Python 3",
   "language": "python",
   "name": "python3"
  },
  "language_info": {
   "codemirror_mode": {
    "name": "ipython",
    "version": 3
   },
   "file_extension": ".py",
   "mimetype": "text/x-python",
   "name": "python",
   "nbconvert_exporter": "python",
   "pygments_lexer": "ipython3",
   "version": "3.13.2"
  }
 },
 "nbformat": 4,
 "nbformat_minor": 5
}
